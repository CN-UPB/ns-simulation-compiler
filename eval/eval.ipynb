{
 "cells": [
  {
   "cell_type": "markdown",
   "metadata": {},
   "source": [
    "### Evaluation of simulation measurements\n",
    "* Generate measurements with OMNeT++\n",
    "* Convert them to csv using `scavetool` (done below)\n",
    "* Read and analyze using Python\n",
    "\n",
    "For more details see this tutorial: https://docs.omnetpp.org/tutorials/pandas/\n",
    "\n",
    "Evaluated service: Video streaming service with ad insertion\n",
    "\n",
    "![omnet](../docs/omnet.png)"
   ]
  },
  {
   "cell_type": "code",
   "execution_count": 32,
   "metadata": {
    "collapsed": true
   },
   "outputs": [],
   "source": [
    "import pandas as pd\n",
    "import numpy as np\n",
    "import matplotlib.pyplot as plt\n",
    "import seaborn as sns\n",
    "from subprocess import call\n",
    "%matplotlib inline"
   ]
  },
  {
   "cell_type": "code",
   "execution_count": 33,
   "metadata": {},
   "outputs": [
    {
     "name": "stdout",
     "output_type": "stream",
     "text": [
      "Exported 38 vectors\n"
     ]
    }
   ],
   "source": [
    "# call scavetool to generate the CSV\n",
    "!{'scavetool x ../omnet-test/results/*.vec -o measurements.csv'}"
   ]
  },
  {
   "cell_type": "code",
   "execution_count": 34,
   "metadata": {},
   "outputs": [
    {
     "data": {
      "text/html": [
       "<div>\n",
       "<style scoped>\n",
       "    .dataframe tbody tr th:only-of-type {\n",
       "        vertical-align: middle;\n",
       "    }\n",
       "\n",
       "    .dataframe tbody tr th {\n",
       "        vertical-align: top;\n",
       "    }\n",
       "\n",
       "    .dataframe thead th {\n",
       "        text-align: right;\n",
       "    }\n",
       "</style>\n",
       "<table border=\"1\" class=\"dataframe\">\n",
       "  <thead>\n",
       "    <tr style=\"text-align: right;\">\n",
       "      <th></th>\n",
       "      <th>run</th>\n",
       "      <th>type</th>\n",
       "      <th>module</th>\n",
       "      <th>name</th>\n",
       "      <th>attrname</th>\n",
       "      <th>attrvalue</th>\n",
       "      <th>value</th>\n",
       "      <th>vectime</th>\n",
       "      <th>vecvalue</th>\n",
       "    </tr>\n",
       "  </thead>\n",
       "  <tbody>\n",
       "    <tr>\n",
       "      <th>0</th>\n",
       "      <td>VideoFixed-0-20180803-14:39:40-9700</td>\n",
       "      <td>runattr</td>\n",
       "      <td>NaN</td>\n",
       "      <td>NaN</td>\n",
       "      <td>configname</td>\n",
       "      <td>VideoFixed</td>\n",
       "      <td>NaN</td>\n",
       "      <td>None</td>\n",
       "      <td>None</td>\n",
       "    </tr>\n",
       "    <tr>\n",
       "      <th>1</th>\n",
       "      <td>VideoFixed-0-20180803-14:39:40-9700</td>\n",
       "      <td>runattr</td>\n",
       "      <td>NaN</td>\n",
       "      <td>NaN</td>\n",
       "      <td>datetime</td>\n",
       "      <td>20180803-14:39:40</td>\n",
       "      <td>NaN</td>\n",
       "      <td>None</td>\n",
       "      <td>None</td>\n",
       "    </tr>\n",
       "    <tr>\n",
       "      <th>2</th>\n",
       "      <td>VideoFixed-0-20180803-14:39:40-9700</td>\n",
       "      <td>runattr</td>\n",
       "      <td>NaN</td>\n",
       "      <td>NaN</td>\n",
       "      <td>experiment</td>\n",
       "      <td>VideoFixed</td>\n",
       "      <td>NaN</td>\n",
       "      <td>None</td>\n",
       "      <td>None</td>\n",
       "    </tr>\n",
       "    <tr>\n",
       "      <th>3</th>\n",
       "      <td>VideoFixed-0-20180803-14:39:40-9700</td>\n",
       "      <td>runattr</td>\n",
       "      <td>NaN</td>\n",
       "      <td>NaN</td>\n",
       "      <td>inifile</td>\n",
       "      <td>omnetpp.ini</td>\n",
       "      <td>NaN</td>\n",
       "      <td>None</td>\n",
       "      <td>None</td>\n",
       "    </tr>\n",
       "    <tr>\n",
       "      <th>4</th>\n",
       "      <td>VideoFixed-0-20180803-14:39:40-9700</td>\n",
       "      <td>runattr</td>\n",
       "      <td>NaN</td>\n",
       "      <td>NaN</td>\n",
       "      <td>iterationvars</td>\n",
       "      <td>None</td>\n",
       "      <td>NaN</td>\n",
       "      <td>None</td>\n",
       "      <td>None</td>\n",
       "    </tr>\n",
       "  </tbody>\n",
       "</table>\n",
       "</div>"
      ],
      "text/plain": [
       "                                   run     type module name       attrname  \\\n",
       "0  VideoFixed-0-20180803-14:39:40-9700  runattr    NaN  NaN     configname   \n",
       "1  VideoFixed-0-20180803-14:39:40-9700  runattr    NaN  NaN       datetime   \n",
       "2  VideoFixed-0-20180803-14:39:40-9700  runattr    NaN  NaN     experiment   \n",
       "3  VideoFixed-0-20180803-14:39:40-9700  runattr    NaN  NaN        inifile   \n",
       "4  VideoFixed-0-20180803-14:39:40-9700  runattr    NaN  NaN  iterationvars   \n",
       "\n",
       "           attrvalue  value vectime vecvalue  \n",
       "0         VideoFixed    NaN    None     None  \n",
       "1  20180803-14:39:40    NaN    None     None  \n",
       "2         VideoFixed    NaN    None     None  \n",
       "3        omnetpp.ini    NaN    None     None  \n",
       "4               None    NaN    None     None  "
      ]
     },
     "execution_count": 34,
     "metadata": {},
     "output_type": "execute_result"
    }
   ],
   "source": [
    "# convenience functions for parsing numbers and arrays in csv correctly\n",
    "def parse_if_number(s):\n",
    "    try: \n",
    "        return float(s)\n",
    "    except: \n",
    "        return True if s==\"true\" else False if s==\"false\" else s if s else None\n",
    "\n",
    "def parse_ndarray(s):\n",
    "    return np.fromstring(s, sep=' ') if s else None\n",
    "\n",
    "# load measurements from results folder\n",
    "results = pd.read_csv('measurements.csv', converters = {\n",
    "                    'attrvalue': parse_if_number,\n",
    "                    'binedges': parse_ndarray,\n",
    "                    'binvalues': parse_ndarray,\n",
    "                    'vectime': parse_ndarray,\n",
    "                    'vecvalue': parse_ndarray})\n",
    "results.head()"
   ]
  },
  {
   "cell_type": "code",
   "execution_count": 35,
   "metadata": {},
   "outputs": [
    {
     "data": {
      "text/html": [
       "<div>\n",
       "<style scoped>\n",
       "    .dataframe tbody tr th:only-of-type {\n",
       "        vertical-align: middle;\n",
       "    }\n",
       "\n",
       "    .dataframe tbody tr th {\n",
       "        vertical-align: top;\n",
       "    }\n",
       "\n",
       "    .dataframe thead th {\n",
       "        text-align: right;\n",
       "    }\n",
       "</style>\n",
       "<table border=\"1\" class=\"dataframe\">\n",
       "  <thead>\n",
       "    <tr style=\"text-align: right;\">\n",
       "      <th></th>\n",
       "      <th>module</th>\n",
       "      <th>name</th>\n",
       "      <th>vectime</th>\n",
       "      <th>vecvalue</th>\n",
       "    </tr>\n",
       "  </thead>\n",
       "  <tbody>\n",
       "    <tr>\n",
       "      <th>36</th>\n",
       "      <td>VideoFixed.C_P0</td>\n",
       "      <td>tokenInDelay</td>\n",
       "      <td>[0.795874504566, 1.69443489305, 2.617658024521...</td>\n",
       "      <td>[0.0, 0.0, 0.0, 0.0, 0.0, 0.0, 0.0, 0.0, 0.0, ...</td>\n",
       "    </tr>\n",
       "    <tr>\n",
       "      <th>39</th>\n",
       "      <td>VideoFixed.C_T0</td>\n",
       "      <td>tokenInDelay</td>\n",
       "      <td>[0.795874504566, 1.69443489305, 2.617658024521...</td>\n",
       "      <td>[0.0, 0.0, 0.0, 0.0, 0.0, 0.0, 0.0, 0.0, 0.0, ...</td>\n",
       "    </tr>\n",
       "    <tr>\n",
       "      <th>41</th>\n",
       "      <td>VideoFixed.C_P1</td>\n",
       "      <td>tokenInDelay</td>\n",
       "      <td>[1.725676610603, 2.119277180594, 2.86022210638...</td>\n",
       "      <td>[0.929802106037, 0.424842287544, 0.24256408186...</td>\n",
       "    </tr>\n",
       "    <tr>\n",
       "      <th>43</th>\n",
       "      <td>VideoFixed.U_P0</td>\n",
       "      <td>tokenInDelay</td>\n",
       "      <td>[1.725676610603, 2.860222106382, 4.70642666193...</td>\n",
       "      <td>[0.929802106037, 0.242564081861, 1.11176221101...</td>\n",
       "    </tr>\n",
       "    <tr>\n",
       "      <th>45</th>\n",
       "      <td>VideoFixed.S_P0</td>\n",
       "      <td>tokenInDelay</td>\n",
       "      <td>[2.119277180594, 9.362062655293, 19.1268803922...</td>\n",
       "      <td>[0.424842287544, 0.0102127942, 0.304541211592,...</td>\n",
       "    </tr>\n",
       "  </tbody>\n",
       "</table>\n",
       "</div>"
      ],
      "text/plain": [
       "             module          name  \\\n",
       "36  VideoFixed.C_P0  tokenInDelay   \n",
       "39  VideoFixed.C_T0  tokenInDelay   \n",
       "41  VideoFixed.C_P1  tokenInDelay   \n",
       "43  VideoFixed.U_P0  tokenInDelay   \n",
       "45  VideoFixed.S_P0  tokenInDelay   \n",
       "\n",
       "                                              vectime  \\\n",
       "36  [0.795874504566, 1.69443489305, 2.617658024521...   \n",
       "39  [0.795874504566, 1.69443489305, 2.617658024521...   \n",
       "41  [1.725676610603, 2.119277180594, 2.86022210638...   \n",
       "43  [1.725676610603, 2.860222106382, 4.70642666193...   \n",
       "45  [2.119277180594, 9.362062655293, 19.1268803922...   \n",
       "\n",
       "                                             vecvalue  \n",
       "36  [0.0, 0.0, 0.0, 0.0, 0.0, 0.0, 0.0, 0.0, 0.0, ...  \n",
       "39  [0.0, 0.0, 0.0, 0.0, 0.0, 0.0, 0.0, 0.0, 0.0, ...  \n",
       "41  [0.929802106037, 0.424842287544, 0.24256408186...  \n",
       "43  [0.929802106037, 0.242564081861, 1.11176221101...  \n",
       "45  [0.424842287544, 0.0102127942, 0.304541211592,...  "
      ]
     },
     "execution_count": 35,
     "metadata": {},
     "output_type": "execute_result"
    }
   ],
   "source": [
    "# select the vectors recording tokenInDelay for analyzing the delay\n",
    "delays = results[(results.type == 'vector') & (results.name == 'tokenInDelay')]\n",
    "delays = delays[['module', 'name', 'vectime', 'vecvalue']]\n",
    "delays.head()"
   ]
  },
  {
   "cell_type": "code",
   "execution_count": 36,
   "metadata": {
    "collapsed": true
   },
   "outputs": [],
   "source": [
    "# convert into table with columns module, time, delay\n",
    "def organize_delays(delays):\n",
    "    organized_delays = {'module': [], 'time': [], 'tokenInDelay': []}\n",
    "    for index, row in delays.iterrows():\n",
    "        for i in range(row['vectime'].size):\n",
    "            organized_delays['module'].append(row['module'][11:])    # drop \"VideoFixed.\" prefix\n",
    "            organized_delays['time'].append(row['vectime'][i])\n",
    "            organized_delays['tokenInDelay'].append(row['vecvalue'][i])\n",
    "    return pd.DataFrame(data=organized_delays)    "
   ]
  },
  {
   "cell_type": "code",
   "execution_count": 37,
   "metadata": {},
   "outputs": [
    {
     "data": {
      "text/html": [
       "<div>\n",
       "<style scoped>\n",
       "    .dataframe tbody tr th:only-of-type {\n",
       "        vertical-align: middle;\n",
       "    }\n",
       "\n",
       "    .dataframe tbody tr th {\n",
       "        vertical-align: top;\n",
       "    }\n",
       "\n",
       "    .dataframe thead th {\n",
       "        text-align: right;\n",
       "    }\n",
       "</style>\n",
       "<table border=\"1\" class=\"dataframe\">\n",
       "  <thead>\n",
       "    <tr style=\"text-align: right;\">\n",
       "      <th></th>\n",
       "      <th>module</th>\n",
       "      <th>time</th>\n",
       "      <th>tokenInDelay</th>\n",
       "    </tr>\n",
       "  </thead>\n",
       "  <tbody>\n",
       "    <tr>\n",
       "      <th>21856</th>\n",
       "      <td>C_P2</td>\n",
       "      <td>3585.665994</td>\n",
       "      <td>1376.373167</td>\n",
       "    </tr>\n",
       "    <tr>\n",
       "      <th>21857</th>\n",
       "      <td>C_P2</td>\n",
       "      <td>3589.873331</td>\n",
       "      <td>1378.087820</td>\n",
       "    </tr>\n",
       "    <tr>\n",
       "      <th>21858</th>\n",
       "      <td>C_P2</td>\n",
       "      <td>3593.967126</td>\n",
       "      <td>1381.275156</td>\n",
       "    </tr>\n",
       "    <tr>\n",
       "      <th>21859</th>\n",
       "      <td>C_P2</td>\n",
       "      <td>3594.838334</td>\n",
       "      <td>1378.426218</td>\n",
       "    </tr>\n",
       "    <tr>\n",
       "      <th>21860</th>\n",
       "      <td>C_P2</td>\n",
       "      <td>3598.839743</td>\n",
       "      <td>1382.006573</td>\n",
       "    </tr>\n",
       "  </tbody>\n",
       "</table>\n",
       "</div>"
      ],
      "text/plain": [
       "      module         time  tokenInDelay\n",
       "21856   C_P2  3585.665994   1376.373167\n",
       "21857   C_P2  3589.873331   1378.087820\n",
       "21858   C_P2  3593.967126   1381.275156\n",
       "21859   C_P2  3594.838334   1378.426218\n",
       "21860   C_P2  3598.839743   1382.006573"
      ]
     },
     "execution_count": 37,
     "metadata": {},
     "output_type": "execute_result"
    }
   ],
   "source": [
    "delays = organize_delays(delays)\n",
    "delays.tail()"
   ]
  },
  {
   "cell_type": "markdown",
   "metadata": {},
   "source": [
    "Filter relevant delays: at inputs of each VNF and back at source\n",
    "* cache_fwd: C_P0\n",
    "* server: S_P0\n",
    "* vid_opt: V_P0\n",
    "* ad_ins: A_P0\n",
    "* cache_bwd: C_T3 (after sync)\n",
    "* user: U_P0"
   ]
  },
  {
   "cell_type": "code",
   "execution_count": 38,
   "metadata": {},
   "outputs": [
    {
     "data": {
      "text/html": [
       "<div>\n",
       "<style scoped>\n",
       "    .dataframe tbody tr th:only-of-type {\n",
       "        vertical-align: middle;\n",
       "    }\n",
       "\n",
       "    .dataframe tbody tr th {\n",
       "        vertical-align: top;\n",
       "    }\n",
       "\n",
       "    .dataframe thead th {\n",
       "        text-align: right;\n",
       "    }\n",
       "</style>\n",
       "<table border=\"1\" class=\"dataframe\">\n",
       "  <thead>\n",
       "    <tr style=\"text-align: right;\">\n",
       "      <th></th>\n",
       "      <th>module</th>\n",
       "      <th>time</th>\n",
       "      <th>tokenInDelay</th>\n",
       "    </tr>\n",
       "  </thead>\n",
       "  <tbody>\n",
       "    <tr>\n",
       "      <th>0</th>\n",
       "      <td>C_P0</td>\n",
       "      <td>0.795875</td>\n",
       "      <td>0.0</td>\n",
       "    </tr>\n",
       "    <tr>\n",
       "      <th>1</th>\n",
       "      <td>C_P0</td>\n",
       "      <td>1.694435</td>\n",
       "      <td>0.0</td>\n",
       "    </tr>\n",
       "    <tr>\n",
       "      <th>2</th>\n",
       "      <td>C_P0</td>\n",
       "      <td>2.617658</td>\n",
       "      <td>0.0</td>\n",
       "    </tr>\n",
       "    <tr>\n",
       "      <th>3</th>\n",
       "      <td>C_P0</td>\n",
       "      <td>3.594664</td>\n",
       "      <td>0.0</td>\n",
       "    </tr>\n",
       "    <tr>\n",
       "      <th>4</th>\n",
       "      <td>C_P0</td>\n",
       "      <td>4.170184</td>\n",
       "      <td>0.0</td>\n",
       "    </tr>\n",
       "  </tbody>\n",
       "</table>\n",
       "</div>"
      ],
      "text/plain": [
       "  module      time  tokenInDelay\n",
       "0   C_P0  0.795875           0.0\n",
       "1   C_P0  1.694435           0.0\n",
       "2   C_P0  2.617658           0.0\n",
       "3   C_P0  3.594664           0.0\n",
       "4   C_P0  4.170184           0.0"
      ]
     },
     "execution_count": 38,
     "metadata": {},
     "output_type": "execute_result"
    }
   ],
   "source": [
    "delays = delays[delays.module.isin(['C_P0', 'S_P0', 'V_P0', 'A_P0', 'C_T3', 'U_P0'])]\n",
    "delays.head()"
   ]
  },
  {
   "cell_type": "code",
   "execution_count": 39,
   "metadata": {},
   "outputs": [
    {
     "data": {
      "text/plain": [
       "<matplotlib.axes._subplots.AxesSubplot at 0x2bae2628198>"
      ]
     },
     "execution_count": 39,
     "metadata": {},
     "output_type": "execute_result"
    },
    {
     "data": {
      "image/png": "[encoded data removed]",
      "text/plain": [
       "<Figure size 432x288 with 1 Axes>"
      ]
     },
     "metadata": {},
     "output_type": "display_data"
    }
   ],
   "source": [
    "# shows increasing delay at VNFs after server and at user\n",
    "sns.lineplot('time', 'tokenInDelay', hue='module', data=delays)\n",
    "# TODO: improve visibility; plot queue lengths"
   ]
  },
  {
   "cell_type": "code",
   "execution_count": null,
   "metadata": {
    "collapsed": true
   },
   "outputs": [],
   "source": []
  }
 ],
 "metadata": {
  "kernelspec": {
   "display_name": "venv-qpn",
   "language": "python",
   "name": "venv-qpn"
  },
  "language_info": {
   "codemirror_mode": {
    "name": "ipython",
    "version": 3
   },
   "file_extension": ".py",
   "mimetype": "text/x-python",
   "name": "python",
   "nbconvert_exporter": "python",
   "pygments_lexer": "ipython3",
   "version": "3.6.2"
  }
 },
 "nbformat": 4,
 "nbformat_minor": 2
}
