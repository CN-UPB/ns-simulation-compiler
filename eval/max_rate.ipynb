{
 "cells": [
  {
   "cell_type": "markdown",
   "metadata": {},
   "source": [
    "## Evaluation: Max. supported user request rate\n",
    "* Generate measurements with OMNeT++, using the prepared `omnet-test` simulation code\n",
    "* Convert them to csv using `scavetool x omnet-test/results/*.vec -o eval/measurements/max_rate.csv`\n",
    "* Read and analyze using Python: https://docs.omnetpp.org/tutorials/pandas/\n",
    "\n",
    "Evaluated service: Video streaming service (see below). \n",
    "* 10 repetitions á 10min\n",
    "* Cache hit ratio: 70%\n",
    "* User request intervals: \n",
    "* VNF processing times:\n",
    "    * Cache (upstream): exp(0.5s)\n",
    "    * Server: exp(3s)\n",
    "    * Video optimizer: exp(0.5s)\n",
    "    * Ad insertion: exp(0.5s)\n",
    "    * Cache (downstream): exp(0.5s)\n",
    "\n",
    "![omnet](../docs/omnet.png)"
   ]
  },
  {
   "cell_type": "code",
   "execution_count": 114,
   "metadata": {
    "collapsed": true
   },
   "outputs": [],
   "source": [
    "import pandas as pd\n",
    "import numpy as np\n",
    "import matplotlib.pyplot as plt\n",
    "import seaborn as sns\n",
    "from subprocess import call\n",
    "%matplotlib inline"
   ]
  },
  {
   "cell_type": "code",
   "execution_count": 115,
   "metadata": {},
   "outputs": [
    {
     "data": {
      "text/html": [
       "<div>\n",
       "<style scoped>\n",
       "    .dataframe tbody tr th:only-of-type {\n",
       "        vertical-align: middle;\n",
       "    }\n",
       "\n",
       "    .dataframe tbody tr th {\n",
       "        vertical-align: top;\n",
       "    }\n",
       "\n",
       "    .dataframe thead th {\n",
       "        text-align: right;\n",
       "    }\n",
       "</style>\n",
       "<table border=\"1\" class=\"dataframe\">\n",
       "  <thead>\n",
       "    <tr style=\"text-align: right;\">\n",
       "      <th></th>\n",
       "      <th>run</th>\n",
       "      <th>type</th>\n",
       "      <th>module</th>\n",
       "      <th>name</th>\n",
       "      <th>attrname</th>\n",
       "      <th>attrvalue</th>\n",
       "      <th>value</th>\n",
       "      <th>vectime</th>\n",
       "      <th>vecvalue</th>\n",
       "    </tr>\n",
       "  </thead>\n",
       "  <tbody>\n",
       "    <tr>\n",
       "      <th>0</th>\n",
       "      <td>VideoFixed-41-20180806-15:31:54-13832</td>\n",
       "      <td>runattr</td>\n",
       "      <td>NaN</td>\n",
       "      <td>NaN</td>\n",
       "      <td>configname</td>\n",
       "      <td>VideoFixed</td>\n",
       "      <td>NaN</td>\n",
       "      <td>None</td>\n",
       "      <td>None</td>\n",
       "    </tr>\n",
       "    <tr>\n",
       "      <th>1</th>\n",
       "      <td>VideoFixed-41-20180806-15:31:54-13832</td>\n",
       "      <td>runattr</td>\n",
       "      <td>NaN</td>\n",
       "      <td>NaN</td>\n",
       "      <td>datetime</td>\n",
       "      <td>20180806-15:31:54</td>\n",
       "      <td>NaN</td>\n",
       "      <td>None</td>\n",
       "      <td>None</td>\n",
       "    </tr>\n",
       "    <tr>\n",
       "      <th>2</th>\n",
       "      <td>VideoFixed-41-20180806-15:31:54-13832</td>\n",
       "      <td>runattr</td>\n",
       "      <td>NaN</td>\n",
       "      <td>NaN</td>\n",
       "      <td>experiment</td>\n",
       "      <td>VideoFixed</td>\n",
       "      <td>NaN</td>\n",
       "      <td>None</td>\n",
       "      <td>None</td>\n",
       "    </tr>\n",
       "    <tr>\n",
       "      <th>3</th>\n",
       "      <td>VideoFixed-41-20180806-15:31:54-13832</td>\n",
       "      <td>runattr</td>\n",
       "      <td>NaN</td>\n",
       "      <td>NaN</td>\n",
       "      <td>inifile</td>\n",
       "      <td>omnetpp.ini</td>\n",
       "      <td>NaN</td>\n",
       "      <td>None</td>\n",
       "      <td>None</td>\n",
       "    </tr>\n",
       "    <tr>\n",
       "      <th>4</th>\n",
       "      <td>VideoFixed-41-20180806-15:31:54-13832</td>\n",
       "      <td>runattr</td>\n",
       "      <td>NaN</td>\n",
       "      <td>NaN</td>\n",
       "      <td>iterationvars</td>\n",
       "      <td>$0=0.8s</td>\n",
       "      <td>NaN</td>\n",
       "      <td>None</td>\n",
       "      <td>None</td>\n",
       "    </tr>\n",
       "  </tbody>\n",
       "</table>\n",
       "</div>"
      ],
      "text/plain": [
       "                                     run     type module name       attrname  \\\n",
       "0  VideoFixed-41-20180806-15:31:54-13832  runattr    NaN  NaN     configname   \n",
       "1  VideoFixed-41-20180806-15:31:54-13832  runattr    NaN  NaN       datetime   \n",
       "2  VideoFixed-41-20180806-15:31:54-13832  runattr    NaN  NaN     experiment   \n",
       "3  VideoFixed-41-20180806-15:31:54-13832  runattr    NaN  NaN        inifile   \n",
       "4  VideoFixed-41-20180806-15:31:54-13832  runattr    NaN  NaN  iterationvars   \n",
       "\n",
       "           attrvalue  value vectime vecvalue  \n",
       "0         VideoFixed    NaN    None     None  \n",
       "1  20180806-15:31:54    NaN    None     None  \n",
       "2         VideoFixed    NaN    None     None  \n",
       "3        omnetpp.ini    NaN    None     None  \n",
       "4            $0=0.8s    NaN    None     None  "
      ]
     },
     "execution_count": 115,
     "metadata": {},
     "output_type": "execute_result"
    }
   ],
   "source": [
    "# convenience functions for parsing numbers and arrays in csv correctly\n",
    "def parse_if_number(s):\n",
    "    try: \n",
    "        return float(s)\n",
    "    except: \n",
    "        return True if s==\"true\" else False if s==\"false\" else s if s else None\n",
    "\n",
    "def parse_ndarray(s):\n",
    "    return np.fromstring(s, sep=' ') if s else None\n",
    "\n",
    "# load measurements from results folder\n",
    "results = pd.read_csv('measurements/max_rate.csv', converters = {\n",
    "                    'attrvalue': parse_if_number,\n",
    "                    'binedges': parse_ndarray,\n",
    "                    'binvalues': parse_ndarray,\n",
    "                    'vectime': parse_ndarray,\n",
    "                    'vecvalue': parse_ndarray})\n",
    "results.head()"
   ]
  },
  {
   "cell_type": "code",
   "execution_count": 116,
   "metadata": {},
   "outputs": [
    {
     "data": {
      "text/html": [
       "<div>\n",
       "<style scoped>\n",
       "    .dataframe tbody tr th:only-of-type {\n",
       "        vertical-align: middle;\n",
       "    }\n",
       "\n",
       "    .dataframe tbody tr th {\n",
       "        vertical-align: top;\n",
       "    }\n",
       "\n",
       "    .dataframe thead th {\n",
       "        text-align: right;\n",
       "    }\n",
       "</style>\n",
       "<table border=\"1\" class=\"dataframe\">\n",
       "  <thead>\n",
       "    <tr style=\"text-align: right;\">\n",
       "      <th></th>\n",
       "      <th>module</th>\n",
       "      <th>name</th>\n",
       "      <th>vectime</th>\n",
       "      <th>vecvalue</th>\n",
       "      <th>param</th>\n",
       "    </tr>\n",
       "  </thead>\n",
       "  <tbody>\n",
       "    <tr>\n",
       "      <th>1450</th>\n",
       "      <td>VideoFixed.U_T0</td>\n",
       "      <td>processingDelay</td>\n",
       "      <td>[0.0, 0.8, 1.6, 2.4, 3.2, 4.0, 4.8, 5.6, 6.4, ...</td>\n",
       "      <td>[0.8, 0.8, 0.8, 0.8, 0.8, 0.8, 0.8, 0.8, 0.8, ...</td>\n",
       "      <td>$0=0.8s</td>\n",
       "    </tr>\n",
       "    <tr>\n",
       "      <th>1451</th>\n",
       "      <td>VideoFixed.C_T3</td>\n",
       "      <td>queueLength0</td>\n",
       "      <td>[0.0, 1.0, 2.0, 3.0, 4.0, 5.0, 6.0, 7.0, 8.0, ...</td>\n",
       "      <td>[0.0, 0.0, 0.0, 0.0, 0.0, 0.0, 1.0, 0.0, 0.0, ...</td>\n",
       "      <td>$0=0.8s</td>\n",
       "    </tr>\n",
       "    <tr>\n",
       "      <th>1452</th>\n",
       "      <td>VideoFixed.C_T3</td>\n",
       "      <td>queueLength1</td>\n",
       "      <td>[0.0, 1.0, 2.0, 3.0, 4.0, 5.0, 6.0, 7.0, 8.0, ...</td>\n",
       "      <td>[0.0, 0.0, 0.0, 0.0, 0.0, 0.0, 1.0, 0.0, 0.0, ...</td>\n",
       "      <td>$0=0.8s</td>\n",
       "    </tr>\n",
       "    <tr>\n",
       "      <th>1453</th>\n",
       "      <td>VideoFixed.S_T0</td>\n",
       "      <td>queueLength0</td>\n",
       "      <td>[0.0, 1.0, 2.0, 3.0, 4.0, 5.0, 6.0, 7.0, 8.0, ...</td>\n",
       "      <td>[0.0, 0.0, 1.0, 1.0, 2.0, 3.0, 3.0, 3.0, 3.0, ...</td>\n",
       "      <td>$0=0.8s</td>\n",
       "    </tr>\n",
       "    <tr>\n",
       "      <th>1454</th>\n",
       "      <td>VideoFixed.V_T0</td>\n",
       "      <td>queueLength0</td>\n",
       "      <td>[0.0, 1.0, 2.0, 3.0, 4.0, 5.0, 6.0, 7.0, 8.0, ...</td>\n",
       "      <td>[0.0, 0.0, 0.0, 0.0, 0.0, 0.0, 0.0, 0.0, 0.0, ...</td>\n",
       "      <td>$0=0.8s</td>\n",
       "    </tr>\n",
       "  </tbody>\n",
       "</table>\n",
       "</div>"
      ],
      "text/plain": [
       "               module             name  \\\n",
       "1450  VideoFixed.U_T0  processingDelay   \n",
       "1451  VideoFixed.C_T3     queueLength0   \n",
       "1452  VideoFixed.C_T3     queueLength1   \n",
       "1453  VideoFixed.S_T0     queueLength0   \n",
       "1454  VideoFixed.V_T0     queueLength0   \n",
       "\n",
       "                                                vectime  \\\n",
       "1450  [0.0, 0.8, 1.6, 2.4, 3.2, 4.0, 4.8, 5.6, 6.4, ...   \n",
       "1451  [0.0, 1.0, 2.0, 3.0, 4.0, 5.0, 6.0, 7.0, 8.0, ...   \n",
       "1452  [0.0, 1.0, 2.0, 3.0, 4.0, 5.0, 6.0, 7.0, 8.0, ...   \n",
       "1453  [0.0, 1.0, 2.0, 3.0, 4.0, 5.0, 6.0, 7.0, 8.0, ...   \n",
       "1454  [0.0, 1.0, 2.0, 3.0, 4.0, 5.0, 6.0, 7.0, 8.0, ...   \n",
       "\n",
       "                                               vecvalue    param  \n",
       "1450  [0.8, 0.8, 0.8, 0.8, 0.8, 0.8, 0.8, 0.8, 0.8, ...  $0=0.8s  \n",
       "1451  [0.0, 0.0, 0.0, 0.0, 0.0, 0.0, 1.0, 0.0, 0.0, ...  $0=0.8s  \n",
       "1452  [0.0, 0.0, 0.0, 0.0, 0.0, 0.0, 1.0, 0.0, 0.0, ...  $0=0.8s  \n",
       "1453  [0.0, 0.0, 1.0, 1.0, 2.0, 3.0, 3.0, 3.0, 3.0, ...  $0=0.8s  \n",
       "1454  [0.0, 0.0, 0.0, 0.0, 0.0, 0.0, 0.0, 0.0, 0.0, ...  $0=0.8s  "
      ]
     },
     "execution_count": 116,
     "metadata": {},
     "output_type": "execute_result"
    }
   ],
   "source": [
    "# return transformed data frame only containing the recorded vectors\n",
    "# replace run number with the corresponding parameter values, saved as iterationvars\n",
    "def vectors(results):\n",
    "    # select matching parameters per row based on 'run' \n",
    "    itervars = results[results.attrname == 'iterationvars'] \n",
    "    params = []\n",
    "    for index, row in results.iterrows():\n",
    "        params.append(itervars.loc[itervars.run == row.run].iloc[0].attrvalue)\n",
    "       \n",
    "    # add param column\n",
    "    results['param'] = pd.Series(params, index=results.index)\n",
    "    \n",
    "    # return filtered results (only vectors, only relevant columns)\n",
    "    return pd.DataFrame(data=results[results.type == 'vector'], columns=['module', 'name', 'vectime', 'vecvalue', 'param'])\n",
    "        \n",
    "vecs = vectors(results)\n",
    "vecs.head()"
   ]
  },
  {
   "cell_type": "code",
   "execution_count": 117,
   "metadata": {
    "collapsed": true
   },
   "outputs": [],
   "source": [
    "# return df with separate rows for each vector element of vec_name (columns module, param, time, <vec_name>)\n",
    "# select only rows of 'only_modules'\n",
    "def vector_values(vectors, vec_name, only_modules=None):\n",
    "    vec_values = {'module': [], 'request_interval': [], 'rate': [], 'time': [], vec_name: []}\n",
    "    selected_vecs = vectors[vectors['name'] == vec_name]\n",
    "    for index, row in selected_vecs.iterrows():     \n",
    "        # unroll vector into separate rows\n",
    "        if only_modules is None or row['module'][11:] in only_modules:               \n",
    "            for i in range(row['vectime'].size):\n",
    "                vec_values['module'].append(row['module'][11:])      # drop \"VideoFixed.\" prefix\n",
    "                vec_values['request_interval'].append(row['param'][3:])     # transform '$0=0.5s' into '0.5s'\n",
    "                vec_values['rate'].append(round(1.0/float(row['param'][3:-1]), 2))\n",
    "                vec_values['time'].append(row['vectime'][i])\n",
    "                vec_values[vec_name].append(row['vecvalue'][i])\n",
    "            \n",
    "    return pd.DataFrame(data=vec_values)"
   ]
  },
  {
   "cell_type": "markdown",
   "metadata": {},
   "source": [
    "### End-to-end delay with increasing rate"
   ]
  },
  {
   "cell_type": "code",
   "execution_count": 118,
   "metadata": {},
   "outputs": [
    {
     "data": {
      "text/html": [
       "<div>\n",
       "<style scoped>\n",
       "    .dataframe tbody tr th:only-of-type {\n",
       "        vertical-align: middle;\n",
       "    }\n",
       "\n",
       "    .dataframe tbody tr th {\n",
       "        vertical-align: top;\n",
       "    }\n",
       "\n",
       "    .dataframe thead th {\n",
       "        text-align: right;\n",
       "    }\n",
       "</style>\n",
       "<table border=\"1\" class=\"dataframe\">\n",
       "  <thead>\n",
       "    <tr style=\"text-align: right;\">\n",
       "      <th></th>\n",
       "      <th>module</th>\n",
       "      <th>request_interval</th>\n",
       "      <th>rate</th>\n",
       "      <th>time</th>\n",
       "      <th>tokenInDelay</th>\n",
       "    </tr>\n",
       "  </thead>\n",
       "  <tbody>\n",
       "    <tr>\n",
       "      <th>22002</th>\n",
       "      <td>U_P0</td>\n",
       "      <td>4s</td>\n",
       "      <td>0.25</td>\n",
       "      <td>580.050285</td>\n",
       "      <td>0.050285</td>\n",
       "    </tr>\n",
       "    <tr>\n",
       "      <th>22003</th>\n",
       "      <td>U_P0</td>\n",
       "      <td>4s</td>\n",
       "      <td>0.25</td>\n",
       "      <td>584.212802</td>\n",
       "      <td>0.212802</td>\n",
       "    </tr>\n",
       "    <tr>\n",
       "      <th>22004</th>\n",
       "      <td>U_P0</td>\n",
       "      <td>4s</td>\n",
       "      <td>0.25</td>\n",
       "      <td>588.345066</td>\n",
       "      <td>0.345066</td>\n",
       "    </tr>\n",
       "    <tr>\n",
       "      <th>22005</th>\n",
       "      <td>U_P0</td>\n",
       "      <td>4s</td>\n",
       "      <td>0.25</td>\n",
       "      <td>592.561201</td>\n",
       "      <td>0.561201</td>\n",
       "    </tr>\n",
       "    <tr>\n",
       "      <th>22006</th>\n",
       "      <td>U_P0</td>\n",
       "      <td>4s</td>\n",
       "      <td>0.25</td>\n",
       "      <td>596.334914</td>\n",
       "      <td>0.334914</td>\n",
       "    </tr>\n",
       "  </tbody>\n",
       "</table>\n",
       "</div>"
      ],
      "text/plain": [
       "      module request_interval  rate        time  tokenInDelay\n",
       "22002   U_P0               4s  0.25  580.050285      0.050285\n",
       "22003   U_P0               4s  0.25  584.212802      0.212802\n",
       "22004   U_P0               4s  0.25  588.345066      0.345066\n",
       "22005   U_P0               4s  0.25  592.561201      0.561201\n",
       "22006   U_P0               4s  0.25  596.334914      0.334914"
      ]
     },
     "execution_count": 118,
     "metadata": {},
     "output_type": "execute_result"
    }
   ],
   "source": [
    "# get tokenInDelays but only at user U_P0\n",
    "end2end_delays = vector_values(vecs, 'tokenInDelay', only_modules=['U_P0'])\n",
    "end2end_delays.tail()"
   ]
  },
  {
   "cell_type": "code",
   "execution_count": 119,
   "metadata": {},
   "outputs": [
    {
     "data": {
      "image/png": "[encoded data removed]",
      "text/plain": [
       "<Figure size 432x288 with 1 Axes>"
      ]
     },
     "metadata": {},
     "output_type": "display_data"
    }
   ],
   "source": [
    "g = sns.boxplot('rate', 'tokenInDelay', data=end2end_delays)"
   ]
  },
  {
   "cell_type": "code",
   "execution_count": 120,
   "metadata": {},
   "outputs": [
    {
     "name": "stderr",
     "output_type": "stream",
     "text": [
      "c:\\users\\stefan\\git-repos\\work\\venv\\qpn\\lib\\site-packages\\scipy\\stats\\stats.py:1713: FutureWarning: Using a non-tuple sequence for multidimensional indexing is deprecated; use `arr[tuple(seq)]` instead of `arr[seq]`. In the future this will be interpreted as an array index, `arr[np.array(seq)]`, which will result either in an error or a different result.\n",
      "  return np.add.reduce(sorted[indexer] * weights, axis=axis) / sumval\n"
     ]
    },
    {
     "data": {
      "text/plain": [
       "<matplotlib.axes._subplots.AxesSubplot at 0x2040a3d2e48>"
      ]
     },
     "execution_count": 120,
     "metadata": {},
     "output_type": "execute_result"
    },
    {
     "data": {
      "image/png": "[encoded data removed]",
      "text/plain": [
       "<Figure size 432x288 with 1 Axes>"
      ]
     },
     "metadata": {},
     "output_type": "display_data"
    }
   ],
   "source": [
    "sns.barplot('rate', 'tokenInDelay', data=end2end_delays, estimator=mean)"
   ]
  },
  {
   "cell_type": "markdown",
   "metadata": {},
   "source": [
    "### Queue lengths\n",
    "For different VNFs to identify the bottleneck"
   ]
  },
  {
   "cell_type": "code",
   "execution_count": 146,
   "metadata": {},
   "outputs": [
    {
     "data": {
      "text/html": [
       "<div>\n",
       "<style scoped>\n",
       "    .dataframe tbody tr th:only-of-type {\n",
       "        vertical-align: middle;\n",
       "    }\n",
       "\n",
       "    .dataframe tbody tr th {\n",
       "        vertical-align: top;\n",
       "    }\n",
       "\n",
       "    .dataframe thead th {\n",
       "        text-align: right;\n",
       "    }\n",
       "</style>\n",
       "<table border=\"1\" class=\"dataframe\">\n",
       "  <thead>\n",
       "    <tr style=\"text-align: right;\">\n",
       "      <th></th>\n",
       "      <th>module</th>\n",
       "      <th>request_interval</th>\n",
       "      <th>rate</th>\n",
       "      <th>time</th>\n",
       "      <th>queueLength0</th>\n",
       "    </tr>\n",
       "  </thead>\n",
       "  <tbody>\n",
       "    <tr>\n",
       "      <th>0</th>\n",
       "      <td>S_T0</td>\n",
       "      <td>0.8s</td>\n",
       "      <td>1.25</td>\n",
       "      <td>0.0</td>\n",
       "      <td>0.0</td>\n",
       "    </tr>\n",
       "    <tr>\n",
       "      <th>1</th>\n",
       "      <td>S_T0</td>\n",
       "      <td>0.8s</td>\n",
       "      <td>1.25</td>\n",
       "      <td>1.0</td>\n",
       "      <td>0.0</td>\n",
       "    </tr>\n",
       "    <tr>\n",
       "      <th>2</th>\n",
       "      <td>S_T0</td>\n",
       "      <td>0.8s</td>\n",
       "      <td>1.25</td>\n",
       "      <td>2.0</td>\n",
       "      <td>1.0</td>\n",
       "    </tr>\n",
       "    <tr>\n",
       "      <th>3</th>\n",
       "      <td>S_T0</td>\n",
       "      <td>0.8s</td>\n",
       "      <td>1.25</td>\n",
       "      <td>3.0</td>\n",
       "      <td>1.0</td>\n",
       "    </tr>\n",
       "    <tr>\n",
       "      <th>4</th>\n",
       "      <td>S_T0</td>\n",
       "      <td>0.8s</td>\n",
       "      <td>1.25</td>\n",
       "      <td>4.0</td>\n",
       "      <td>2.0</td>\n",
       "    </tr>\n",
       "  </tbody>\n",
       "</table>\n",
       "</div>"
      ],
      "text/plain": [
       "  module request_interval  rate  time  queueLength0\n",
       "0   S_T0             0.8s  1.25   0.0           0.0\n",
       "1   S_T0             0.8s  1.25   1.0           0.0\n",
       "2   S_T0             0.8s  1.25   2.0           1.0\n",
       "3   S_T0             0.8s  1.25   3.0           1.0\n",
       "4   S_T0             0.8s  1.25   4.0           2.0"
      ]
     },
     "execution_count": 146,
     "metadata": {},
     "output_type": "execute_result"
    }
   ],
   "source": [
    "qlengths = vector_values(vecs, 'queueLength0', only_modules=['C_T0', 'S_T0', 'V_T0', 'A_T0'])\n",
    "qlengths.head()"
   ]
  },
  {
   "cell_type": "code",
   "execution_count": 159,
   "metadata": {},
   "outputs": [
    {
     "data": {
      "text/html": [
       "<div>\n",
       "<style scoped>\n",
       "    .dataframe tbody tr th:only-of-type {\n",
       "        vertical-align: middle;\n",
       "    }\n",
       "\n",
       "    .dataframe tbody tr th {\n",
       "        vertical-align: top;\n",
       "    }\n",
       "\n",
       "    .dataframe thead th {\n",
       "        text-align: right;\n",
       "    }\n",
       "</style>\n",
       "<table border=\"1\" class=\"dataframe\">\n",
       "  <thead>\n",
       "    <tr style=\"text-align: right;\">\n",
       "      <th></th>\n",
       "      <th>module</th>\n",
       "      <th>request_interval</th>\n",
       "      <th>rate</th>\n",
       "      <th>time</th>\n",
       "      <th>queueLength0</th>\n",
       "      <th>vnf</th>\n",
       "      <th>VNF queue</th>\n",
       "      <th>VNF queue len.</th>\n",
       "      <th>VNF</th>\n",
       "    </tr>\n",
       "  </thead>\n",
       "  <tbody>\n",
       "    <tr>\n",
       "      <th>0</th>\n",
       "      <td>S_T0</td>\n",
       "      <td>0.8s</td>\n",
       "      <td>1.25</td>\n",
       "      <td>0.0</td>\n",
       "      <td>0.0</td>\n",
       "      <td>server</td>\n",
       "      <td>server</td>\n",
       "      <td>server</td>\n",
       "      <td>server</td>\n",
       "    </tr>\n",
       "    <tr>\n",
       "      <th>1</th>\n",
       "      <td>S_T0</td>\n",
       "      <td>0.8s</td>\n",
       "      <td>1.25</td>\n",
       "      <td>1.0</td>\n",
       "      <td>0.0</td>\n",
       "      <td>server</td>\n",
       "      <td>server</td>\n",
       "      <td>server</td>\n",
       "      <td>server</td>\n",
       "    </tr>\n",
       "    <tr>\n",
       "      <th>2</th>\n",
       "      <td>S_T0</td>\n",
       "      <td>0.8s</td>\n",
       "      <td>1.25</td>\n",
       "      <td>2.0</td>\n",
       "      <td>1.0</td>\n",
       "      <td>server</td>\n",
       "      <td>server</td>\n",
       "      <td>server</td>\n",
       "      <td>server</td>\n",
       "    </tr>\n",
       "    <tr>\n",
       "      <th>3</th>\n",
       "      <td>S_T0</td>\n",
       "      <td>0.8s</td>\n",
       "      <td>1.25</td>\n",
       "      <td>3.0</td>\n",
       "      <td>1.0</td>\n",
       "      <td>server</td>\n",
       "      <td>server</td>\n",
       "      <td>server</td>\n",
       "      <td>server</td>\n",
       "    </tr>\n",
       "    <tr>\n",
       "      <th>4</th>\n",
       "      <td>S_T0</td>\n",
       "      <td>0.8s</td>\n",
       "      <td>1.25</td>\n",
       "      <td>4.0</td>\n",
       "      <td>2.0</td>\n",
       "      <td>server</td>\n",
       "      <td>server</td>\n",
       "      <td>server</td>\n",
       "      <td>server</td>\n",
       "    </tr>\n",
       "  </tbody>\n",
       "</table>\n",
       "</div>"
      ],
      "text/plain": [
       "  module request_interval  rate  time  queueLength0     vnf VNF queue  \\\n",
       "0   S_T0             0.8s  1.25   0.0           0.0  server    server   \n",
       "1   S_T0             0.8s  1.25   1.0           0.0  server    server   \n",
       "2   S_T0             0.8s  1.25   2.0           1.0  server    server   \n",
       "3   S_T0             0.8s  1.25   3.0           1.0  server    server   \n",
       "4   S_T0             0.8s  1.25   4.0           2.0  server    server   \n",
       "\n",
       "  VNF queue len.     VNF  \n",
       "0         server  server  \n",
       "1         server  server  \n",
       "2         server  server  \n",
       "3         server  server  \n",
       "4         server  server  "
      ]
     },
     "execution_count": 159,
     "metadata": {},
     "output_type": "execute_result"
    }
   ],
   "source": [
    "# map module names to proper VNF names\n",
    "mapping = {\n",
    "    'C_T0': 'cache',\n",
    "    'S_T0': 'server',\n",
    "    'V_T0': 'vid. opt.',\n",
    "    'A_T0': 'ad ins.'\n",
    "}\n",
    "qlengths['VNF'] = qlengths['module'].map(lambda x: mapping[x])\n",
    "qlengths.head()"
   ]
  },
  {
   "cell_type": "code",
   "execution_count": 122,
   "metadata": {},
   "outputs": [
    {
     "name": "stderr",
     "output_type": "stream",
     "text": [
      "c:\\users\\stefan\\git-repos\\work\\venv\\qpn\\lib\\site-packages\\scipy\\stats\\stats.py:1713: FutureWarning: Using a non-tuple sequence for multidimensional indexing is deprecated; use `arr[tuple(seq)]` instead of `arr[seq]`. In the future this will be interpreted as an array index, `arr[np.array(seq)]`, which will result either in an error or a different result.\n",
      "  return np.add.reduce(sorted[indexer] * weights, axis=axis) / sumval\n"
     ]
    },
    {
     "data": {
      "text/plain": [
       "<matplotlib.axes._subplots.AxesSubplot at 0x204112cccf8>"
      ]
     },
     "execution_count": 122,
     "metadata": {},
     "output_type": "execute_result"
    },
    {
     "data": {
      "image/png": "[encoded data removed]",
      "text/plain": [
       "<Figure size 432x288 with 1 Axes>"
      ]
     },
     "metadata": {},
     "output_type": "display_data"
    }
   ],
   "source": [
    "# mean queue length per request rate and module\n",
    "sns.barplot('rate', 'queueLength0', hue='module', hue_order=['C_T0', 'S_T0', 'V_T0', 'A_T0', 'C_T3'], data=qlengths)"
   ]
  },
  {
   "cell_type": "code",
   "execution_count": 124,
   "metadata": {},
   "outputs": [
    {
     "name": "stderr",
     "output_type": "stream",
     "text": [
      "c:\\users\\stefan\\git-repos\\work\\venv\\qpn\\lib\\site-packages\\scipy\\stats\\stats.py:1713: FutureWarning: Using a non-tuple sequence for multidimensional indexing is deprecated; use `arr[tuple(seq)]` instead of `arr[seq]`. In the future this will be interpreted as an array index, `arr[np.array(seq)]`, which will result either in an error or a different result.\n",
      "  return np.add.reduce(sorted[indexer] * weights, axis=axis) / sumval\n"
     ]
    },
    {
     "data": {
      "text/plain": [
       "[(0, 5)]"
      ]
     },
     "execution_count": 124,
     "metadata": {},
     "output_type": "execute_result"
    },
    {
     "data": {
      "image/png": "[encoded data removed]",
      "text/plain": [
       "<Figure size 432x288 with 1 Axes>"
      ]
     },
     "metadata": {},
     "output_type": "display_data"
    }
   ],
   "source": [
    "g = sns.barplot('rate', 'queueLength0', hue='module', hue_order=['C_T0', 'S_T0', 'V_T0', 'A_T0', 'C_T3'], data=qlengths)\n",
    "g.set(ylim=(0, 5))"
   ]
  },
  {
   "cell_type": "code",
   "execution_count": 125,
   "metadata": {},
   "outputs": [
    {
     "name": "stderr",
     "output_type": "stream",
     "text": [
      "c:\\users\\stefan\\git-repos\\work\\venv\\qpn\\lib\\site-packages\\scipy\\stats\\stats.py:1713: FutureWarning: Using a non-tuple sequence for multidimensional indexing is deprecated; use `arr[tuple(seq)]` instead of `arr[seq]`. In the future this will be interpreted as an array index, `arr[np.array(seq)]`, which will result either in an error or a different result.\n",
      "  return np.add.reduce(sorted[indexer] * weights, axis=axis) / sumval\n"
     ]
    },
    {
     "data": {
      "text/plain": [
       "[None]"
      ]
     },
     "execution_count": 125,
     "metadata": {},
     "output_type": "execute_result"
    },
    {
     "data": {
      "image/png": "[encoded data removed]",
      "text/plain": [
       "<Figure size 432x288 with 1 Axes>"
      ]
     },
     "metadata": {},
     "output_type": "display_data"
    }
   ],
   "source": [
    "g = sns.barplot('rate', 'queueLength0', hue='module', hue_order=['C_T0', 'S_T0', 'V_T0', 'A_T0', 'C_T3'], data=qlengths)\n",
    "g.set(yscale='log')"
   ]
  },
  {
   "cell_type": "markdown",
   "metadata": {},
   "source": [
    "### Paper plot: Delay and queue lengths"
   ]
  },
  {
   "cell_type": "code",
   "execution_count": 169,
   "metadata": {
    "collapsed": true
   },
   "outputs": [],
   "source": [
    "# global seaborn settings\n",
    "sns.set(font_scale=1.5)\n",
    "sns.set_style(\"white\")"
   ]
  },
  {
   "cell_type": "code",
   "execution_count": null,
   "metadata": {},
   "outputs": [
    {
     "name": "stderr",
     "output_type": "stream",
     "text": [
      "c:\\users\\stefan\\git-repos\\work\\venv\\qpn\\lib\\site-packages\\scipy\\stats\\stats.py:1713: FutureWarning: Using a non-tuple sequence for multidimensional indexing is deprecated; use `arr[tuple(seq)]` instead of `arr[seq]`. In the future this will be interpreted as an array index, `arr[np.array(seq)]`, which will result either in an error or a different result.\n",
      "  return np.add.reduce(sorted[indexer] * weights, axis=axis) / sumval\n"
     ]
    }
   ],
   "source": [
    "g = sns.barplot(\n",
    "    'rate', 'queueLength0', data=qlengths,\n",
    "    hue='VNF', hue_order=['cache', 'server', 'vid. opt.', 'ad ins.'],\n",
    "    palette='gray', errcolor='black'\n",
    ")\n",
    "g.set(\n",
    "    xlabel='User request rate [request/s]',\n",
    "    ylabel='Avg. queue length',\n",
    "    ylim=(0, 5)\n",
    ")\n",
    "\n",
    "fig = g.get_figure()\n",
    "fig.savefig('plots/queue-length.pdf', bbox_inches='tight')"
   ]
  },
  {
   "cell_type": "code",
   "execution_count": 168,
   "metadata": {},
   "outputs": [
    {
     "name": "stderr",
     "output_type": "stream",
     "text": [
      "c:\\users\\stefan\\git-repos\\work\\venv\\qpn\\lib\\site-packages\\scipy\\stats\\stats.py:1713: FutureWarning: Using a non-tuple sequence for multidimensional indexing is deprecated; use `arr[tuple(seq)]` instead of `arr[seq]`. In the future this will be interpreted as an array index, `arr[np.array(seq)]`, which will result either in an error or a different result.\n",
      "  return np.add.reduce(sorted[indexer] * weights, axis=axis) / sumval\n"
     ]
    },
    {
     "data": {
      "text/plain": [
       "[(0, 5), Text(0,0.5,'Avg. queue length')]"
      ]
     },
     "execution_count": 168,
     "metadata": {},
     "output_type": "execute_result"
    },
    {
     "data": {
      "image/png": "[encoded data removed]",
      "text/plain": [
       "<Figure size 432x288 with 1 Axes>"
      ]
     },
     "metadata": {},
     "output_type": "display_data"
    }
   ],
   "source": [
    "## delay and qlengths in once. too complicated and hard to read...\n",
    "# plot delay\n",
    "g1 = sns.lineplot('rate', 'tokenInDelay', data=end2end_delays,\n",
    "                err_style='bars', color='black')\n",
    "g1.set(\n",
    "    xlabel='User request rate [request/s]',\n",
    "    ylabel='Avg. end-to-end delay [s]',\n",
    "    ylim=(0,15)\n",
    ")\n",
    "\n",
    "# plot queue length\n",
    "# ax2 = plt.twinx()\n",
    "g2 = sns.lineplot(\n",
    "    'rate', 'queueLength0', data=qlengths,\n",
    "    hue='VNF', hue_order=['cache', 'server', 'vid. opt.', 'ad ins.'], \n",
    "    style='VNF', markers=True, dashes=False\n",
    ")\n",
    "g2.set(\n",
    "    ylabel='Avg. queue length',\n",
    "    ylim=(0, 5),\n",
    ")\n",
    "\n",
    "# export\n",
    "#fig = g.get_figure()\n",
    "#fig.savefig('plots/bottleneck.pdf', bbox_inches='tight')"
   ]
  }
 ],
 "metadata": {
  "kernelspec": {
   "display_name": "venv-qpn",
   "language": "python",
   "name": "venv-qpn"
  },
  "language_info": {
   "codemirror_mode": {
    "name": "ipython",
    "version": 3
   },
   "file_extension": ".py",
   "mimetype": "text/x-python",
   "name": "python",
   "nbconvert_exporter": "python",
   "pygments_lexer": "ipython3",
   "version": "3.6.2"
  }
 },
 "nbformat": 4,
 "nbformat_minor": 2
}
