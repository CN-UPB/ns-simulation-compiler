{
 "cells": [
  {
   "cell_type": "markdown",
   "metadata": {},
   "source": [
    "## Evaluation: Impact of cache hit ratio on end-to-end delay\n",
    "* Generate measurements with OMNeT++\n",
    "* Convert them to csv using `scavetool x ../omnet-test/results/*.vec -o measurements/cache_hit_ratio.csv`\n",
    "* Read and analyze using Python\n",
    "\n",
    "For more details see this tutorial: https://docs.omnetpp.org/tutorials/pandas/\n",
    "\n",
    "Evaluated service: Video streaming service with ad insertion. Exponential user request rate with mean 1 request/s.\n",
    "\n",
    "![omnet](../docs/omnet.png)"
   ]
  },
  {
   "cell_type": "code",
   "execution_count": 21,
   "metadata": {
    "collapsed": true
   },
   "outputs": [],
   "source": [
    "import pandas as pd\n",
    "import numpy as np\n",
    "from numpy import mean\n",
    "import matplotlib.pyplot as plt\n",
    "import seaborn as sns\n",
    "from subprocess import call\n",
    "%matplotlib inline"
   ]
  },
  {
   "cell_type": "code",
   "execution_count": 22,
   "metadata": {},
   "outputs": [
    {
     "data": {
      "text/html": [
       "<div>\n",
       "<style scoped>\n",
       "    .dataframe tbody tr th:only-of-type {\n",
       "        vertical-align: middle;\n",
       "    }\n",
       "\n",
       "    .dataframe tbody tr th {\n",
       "        vertical-align: top;\n",
       "    }\n",
       "\n",
       "    .dataframe thead th {\n",
       "        text-align: right;\n",
       "    }\n",
       "</style>\n",
       "<table border=\"1\" class=\"dataframe\">\n",
       "  <thead>\n",
       "    <tr style=\"text-align: right;\">\n",
       "      <th></th>\n",
       "      <th>run</th>\n",
       "      <th>type</th>\n",
       "      <th>module</th>\n",
       "      <th>name</th>\n",
       "      <th>attrname</th>\n",
       "      <th>attrvalue</th>\n",
       "      <th>value</th>\n",
       "      <th>vectime</th>\n",
       "      <th>vecvalue</th>\n",
       "    </tr>\n",
       "  </thead>\n",
       "  <tbody>\n",
       "    <tr>\n",
       "      <th>0</th>\n",
       "      <td>VideoFixed-1-20180806-08:32:41-14428</td>\n",
       "      <td>runattr</td>\n",
       "      <td>NaN</td>\n",
       "      <td>NaN</td>\n",
       "      <td>configname</td>\n",
       "      <td>VideoFixed</td>\n",
       "      <td>NaN</td>\n",
       "      <td>None</td>\n",
       "      <td>None</td>\n",
       "    </tr>\n",
       "    <tr>\n",
       "      <th>1</th>\n",
       "      <td>VideoFixed-1-20180806-08:32:41-14428</td>\n",
       "      <td>runattr</td>\n",
       "      <td>NaN</td>\n",
       "      <td>NaN</td>\n",
       "      <td>datetime</td>\n",
       "      <td>20180806-08:32:41</td>\n",
       "      <td>NaN</td>\n",
       "      <td>None</td>\n",
       "      <td>None</td>\n",
       "    </tr>\n",
       "    <tr>\n",
       "      <th>2</th>\n",
       "      <td>VideoFixed-1-20180806-08:32:41-14428</td>\n",
       "      <td>runattr</td>\n",
       "      <td>NaN</td>\n",
       "      <td>NaN</td>\n",
       "      <td>experiment</td>\n",
       "      <td>VideoFixed</td>\n",
       "      <td>NaN</td>\n",
       "      <td>None</td>\n",
       "      <td>None</td>\n",
       "    </tr>\n",
       "    <tr>\n",
       "      <th>3</th>\n",
       "      <td>VideoFixed-1-20180806-08:32:41-14428</td>\n",
       "      <td>runattr</td>\n",
       "      <td>NaN</td>\n",
       "      <td>NaN</td>\n",
       "      <td>inifile</td>\n",
       "      <td>omnetpp.ini</td>\n",
       "      <td>NaN</td>\n",
       "      <td>None</td>\n",
       "      <td>None</td>\n",
       "    </tr>\n",
       "    <tr>\n",
       "      <th>4</th>\n",
       "      <td>VideoFixed-1-20180806-08:32:41-14428</td>\n",
       "      <td>runattr</td>\n",
       "      <td>NaN</td>\n",
       "      <td>NaN</td>\n",
       "      <td>iterationvars</td>\n",
       "      <td>$0=\"0.6 0.4\"</td>\n",
       "      <td>NaN</td>\n",
       "      <td>None</td>\n",
       "      <td>None</td>\n",
       "    </tr>\n",
       "  </tbody>\n",
       "</table>\n",
       "</div>"
      ],
      "text/plain": [
       "                                    run     type module name       attrname  \\\n",
       "0  VideoFixed-1-20180806-08:32:41-14428  runattr    NaN  NaN     configname   \n",
       "1  VideoFixed-1-20180806-08:32:41-14428  runattr    NaN  NaN       datetime   \n",
       "2  VideoFixed-1-20180806-08:32:41-14428  runattr    NaN  NaN     experiment   \n",
       "3  VideoFixed-1-20180806-08:32:41-14428  runattr    NaN  NaN        inifile   \n",
       "4  VideoFixed-1-20180806-08:32:41-14428  runattr    NaN  NaN  iterationvars   \n",
       "\n",
       "           attrvalue  value vectime vecvalue  \n",
       "0         VideoFixed    NaN    None     None  \n",
       "1  20180806-08:32:41    NaN    None     None  \n",
       "2         VideoFixed    NaN    None     None  \n",
       "3        omnetpp.ini    NaN    None     None  \n",
       "4       $0=\"0.6 0.4\"    NaN    None     None  "
      ]
     },
     "execution_count": 22,
     "metadata": {},
     "output_type": "execute_result"
    }
   ],
   "source": [
    "# convenience functions for parsing numbers and arrays in csv correctly\n",
    "def parse_if_number(s):\n",
    "    try: \n",
    "        return float(s)\n",
    "    except: \n",
    "        return True if s==\"true\" else False if s==\"false\" else s if s else None\n",
    "\n",
    "def parse_ndarray(s):\n",
    "    return np.fromstring(s, sep=' ') if s else None\n",
    "\n",
    "# load measurements from results folder\n",
    "results = pd.read_csv('measurements/cache_hit_ratio.csv', converters = {\n",
    "                    'attrvalue': parse_if_number,\n",
    "                    'binedges': parse_ndarray,\n",
    "                    'binvalues': parse_ndarray,\n",
    "                    'vectime': parse_ndarray,\n",
    "                    'vecvalue': parse_ndarray})\n",
    "results.head()"
   ]
  },
  {
   "cell_type": "code",
   "execution_count": 23,
   "metadata": {},
   "outputs": [
    {
     "data": {
      "text/html": [
       "<div>\n",
       "<style scoped>\n",
       "    .dataframe tbody tr th:only-of-type {\n",
       "        vertical-align: middle;\n",
       "    }\n",
       "\n",
       "    .dataframe tbody tr th {\n",
       "        vertical-align: top;\n",
       "    }\n",
       "\n",
       "    .dataframe thead th {\n",
       "        text-align: right;\n",
       "    }\n",
       "</style>\n",
       "<table border=\"1\" class=\"dataframe\">\n",
       "  <thead>\n",
       "    <tr style=\"text-align: right;\">\n",
       "      <th></th>\n",
       "      <th>module</th>\n",
       "      <th>name</th>\n",
       "      <th>vectime</th>\n",
       "      <th>vecvalue</th>\n",
       "      <th>param</th>\n",
       "    </tr>\n",
       "  </thead>\n",
       "  <tbody>\n",
       "    <tr>\n",
       "      <th>145</th>\n",
       "      <td>VideoFixed.U_T0</td>\n",
       "      <td>processingDelay</td>\n",
       "      <td>[0.0, 0.795874504566, 1.69443489305, 2.6176580...</td>\n",
       "      <td>[0.79587450456578, 0.89856038848394, 0.9232231...</td>\n",
       "      <td>$0=\"0.5 0.5\"</td>\n",
       "    </tr>\n",
       "    <tr>\n",
       "      <th>146</th>\n",
       "      <td>VideoFixed.C_T3</td>\n",
       "      <td>queueLength0</td>\n",
       "      <td>[0.0, 1.0, 2.0, 3.0, 4.0, 5.0, 6.0, 7.0, 8.0, ...</td>\n",
       "      <td>[0.0, 0.0, 0.0, 0.0, 0.0, 0.0, 0.0, 0.0, 0.0, ...</td>\n",
       "      <td>$0=\"0.5 0.5\"</td>\n",
       "    </tr>\n",
       "    <tr>\n",
       "      <th>147</th>\n",
       "      <td>VideoFixed.C_T3</td>\n",
       "      <td>queueLength1</td>\n",
       "      <td>[0.0, 1.0, 2.0, 3.0, 4.0, 5.0, 6.0, 7.0, 8.0, ...</td>\n",
       "      <td>[0.0, 0.0, 0.0, 0.0, 0.0, 0.0, 0.0, 0.0, 0.0, ...</td>\n",
       "      <td>$0=\"0.5 0.5\"</td>\n",
       "    </tr>\n",
       "    <tr>\n",
       "      <th>148</th>\n",
       "      <td>VideoFixed.S_T0</td>\n",
       "      <td>queueLength0</td>\n",
       "      <td>[0.0, 1.0, 2.0, 3.0, 4.0, 5.0, 6.0, 7.0, 8.0, ...</td>\n",
       "      <td>[0.0, 0.0, 0.0, 1.0, 1.0, 1.0, 1.0, 1.0, 1.0, ...</td>\n",
       "      <td>$0=\"0.5 0.5\"</td>\n",
       "    </tr>\n",
       "    <tr>\n",
       "      <th>149</th>\n",
       "      <td>VideoFixed.V_T0</td>\n",
       "      <td>queueLength0</td>\n",
       "      <td>[0.0, 1.0, 2.0, 3.0, 4.0, 5.0, 6.0, 7.0, 8.0, ...</td>\n",
       "      <td>[0.0, 0.0, 0.0, 0.0, 0.0, 1.0, 0.0, 0.0, 0.0, ...</td>\n",
       "      <td>$0=\"0.5 0.5\"</td>\n",
       "    </tr>\n",
       "  </tbody>\n",
       "</table>\n",
       "</div>"
      ],
      "text/plain": [
       "              module             name  \\\n",
       "145  VideoFixed.U_T0  processingDelay   \n",
       "146  VideoFixed.C_T3     queueLength0   \n",
       "147  VideoFixed.C_T3     queueLength1   \n",
       "148  VideoFixed.S_T0     queueLength0   \n",
       "149  VideoFixed.V_T0     queueLength0   \n",
       "\n",
       "                                               vectime  \\\n",
       "145  [0.0, 0.795874504566, 1.69443489305, 2.6176580...   \n",
       "146  [0.0, 1.0, 2.0, 3.0, 4.0, 5.0, 6.0, 7.0, 8.0, ...   \n",
       "147  [0.0, 1.0, 2.0, 3.0, 4.0, 5.0, 6.0, 7.0, 8.0, ...   \n",
       "148  [0.0, 1.0, 2.0, 3.0, 4.0, 5.0, 6.0, 7.0, 8.0, ...   \n",
       "149  [0.0, 1.0, 2.0, 3.0, 4.0, 5.0, 6.0, 7.0, 8.0, ...   \n",
       "\n",
       "                                              vecvalue         param  \n",
       "145  [0.79587450456578, 0.89856038848394, 0.9232231...  $0=\"0.5 0.5\"  \n",
       "146  [0.0, 0.0, 0.0, 0.0, 0.0, 0.0, 0.0, 0.0, 0.0, ...  $0=\"0.5 0.5\"  \n",
       "147  [0.0, 0.0, 0.0, 0.0, 0.0, 0.0, 0.0, 0.0, 0.0, ...  $0=\"0.5 0.5\"  \n",
       "148  [0.0, 0.0, 0.0, 1.0, 1.0, 1.0, 1.0, 1.0, 1.0, ...  $0=\"0.5 0.5\"  \n",
       "149  [0.0, 0.0, 0.0, 0.0, 0.0, 1.0, 0.0, 0.0, 0.0, ...  $0=\"0.5 0.5\"  "
      ]
     },
     "execution_count": 23,
     "metadata": {},
     "output_type": "execute_result"
    }
   ],
   "source": [
    "# return transformed data frame only containing the recorded vectors\n",
    "# replace run number with the corresponding parameter values, saved as iterationvars\n",
    "def vectors(results):\n",
    "    # select matching parameters per row based on 'run' \n",
    "    itervars = results[results.attrname == 'iterationvars'] \n",
    "    params = []\n",
    "    for index, row in results.iterrows():\n",
    "        params.append(itervars.loc[itervars.run == row.run].iloc[0].attrvalue)\n",
    "       \n",
    "    # add param column\n",
    "    results['param'] = pd.Series(params, index=results.index)\n",
    "    \n",
    "    # return filtered results (only vectors, only relevant columns)\n",
    "    return pd.DataFrame(data=results[results.type == 'vector'], columns=['module', 'name', 'vectime', 'vecvalue', 'param'])\n",
    "        \n",
    "vecs = vectors(results)\n",
    "vecs.head()"
   ]
  },
  {
   "cell_type": "code",
   "execution_count": 24,
   "metadata": {
    "collapsed": true
   },
   "outputs": [],
   "source": [
    "# return df with separate rows for each vector element of vec_name (columns module, param, time, <vec_name>)\n",
    "# select only rows of 'only_modules'\n",
    "def vector_values(vectors, vec_name, only_modules=None):\n",
    "    vec_values = {'module': [], 'hit_ratio': [], 'time': [], vec_name: []}\n",
    "    selected_vecs = vectors[vectors['name'] == vec_name]\n",
    "    for index, row in selected_vecs.iterrows():     \n",
    "        # unroll vector into separate rows\n",
    "        if only_modules is None or row['module'][11:] in only_modules:               \n",
    "            for i in range(row['vectime'].size):\n",
    "                vec_values['module'].append(row['module'][11:])    # drop \"VideoFixed.\" prefix\n",
    "                vec_values['hit_ratio'].append(row['param'][4:-5])     # transform '$0=\"0.7 0.3\"' into '0.7'\n",
    "                vec_values['time'].append(row['vectime'][i])\n",
    "                vec_values[vec_name].append(row['vecvalue'][i])\n",
    "            \n",
    "    return pd.DataFrame(data=vec_values)"
   ]
  },
  {
   "cell_type": "code",
   "execution_count": 25,
   "metadata": {},
   "outputs": [
    {
     "data": {
      "text/html": [
       "<div>\n",
       "<style scoped>\n",
       "    .dataframe tbody tr th:only-of-type {\n",
       "        vertical-align: middle;\n",
       "    }\n",
       "\n",
       "    .dataframe tbody tr th {\n",
       "        vertical-align: top;\n",
       "    }\n",
       "\n",
       "    .dataframe thead th {\n",
       "        text-align: right;\n",
       "    }\n",
       "</style>\n",
       "<table border=\"1\" class=\"dataframe\">\n",
       "  <thead>\n",
       "    <tr style=\"text-align: right;\">\n",
       "      <th></th>\n",
       "      <th>module</th>\n",
       "      <th>hit_ratio</th>\n",
       "      <th>time</th>\n",
       "      <th>tokenInDelay</th>\n",
       "    </tr>\n",
       "  </thead>\n",
       "  <tbody>\n",
       "    <tr>\n",
       "      <th>15635</th>\n",
       "      <td>U_P0</td>\n",
       "      <td>0.9</td>\n",
       "      <td>3590.704079</td>\n",
       "      <td>0.015134</td>\n",
       "    </tr>\n",
       "    <tr>\n",
       "      <th>15636</th>\n",
       "      <td>U_P0</td>\n",
       "      <td>0.9</td>\n",
       "      <td>3598.193271</td>\n",
       "      <td>1.165319</td>\n",
       "    </tr>\n",
       "    <tr>\n",
       "      <th>15637</th>\n",
       "      <td>U_P0</td>\n",
       "      <td>0.9</td>\n",
       "      <td>3598.248748</td>\n",
       "      <td>0.951804</td>\n",
       "    </tr>\n",
       "    <tr>\n",
       "      <th>15638</th>\n",
       "      <td>U_P0</td>\n",
       "      <td>0.9</td>\n",
       "      <td>3598.513639</td>\n",
       "      <td>0.253359</td>\n",
       "    </tr>\n",
       "    <tr>\n",
       "      <th>15639</th>\n",
       "      <td>U_P0</td>\n",
       "      <td>0.9</td>\n",
       "      <td>3599.775268</td>\n",
       "      <td>0.769844</td>\n",
       "    </tr>\n",
       "  </tbody>\n",
       "</table>\n",
       "</div>"
      ],
      "text/plain": [
       "      module hit_ratio         time  tokenInDelay\n",
       "15635   U_P0       0.9  3590.704079      0.015134\n",
       "15636   U_P0       0.9  3598.193271      1.165319\n",
       "15637   U_P0       0.9  3598.248748      0.951804\n",
       "15638   U_P0       0.9  3598.513639      0.253359\n",
       "15639   U_P0       0.9  3599.775268      0.769844"
      ]
     },
     "execution_count": 25,
     "metadata": {},
     "output_type": "execute_result"
    }
   ],
   "source": [
    "# get tokenInDelays but only at user U_P0\n",
    "end2end_delays = vector_values(vecs, 'tokenInDelay', only_modules=['U_P0'])\n",
    "end2end_delays.tail()"
   ]
  },
  {
   "cell_type": "code",
   "execution_count": 26,
   "metadata": {},
   "outputs": [
    {
     "data": {
      "image/png": "[encoded data removed]",
      "text/plain": [
       "<Figure size 432x288 with 1 Axes>"
      ]
     },
     "metadata": {},
     "output_type": "display_data"
    }
   ],
   "source": [
    "# plot boxplots for different cache hit ratios\n",
    "# cache misses lead to much higher delays and significant outliers\n",
    "g = sns.boxplot('hit_ratio', 'tokenInDelay', data=end2end_delays)\n",
    "\n",
    "fig = g.get_figure()\n",
    "fig.savefig('plots/cache-hit-ratio.pdf', bbox_inches='tight')"
   ]
  },
  {
   "cell_type": "code",
   "execution_count": 27,
   "metadata": {},
   "outputs": [
    {
     "name": "stderr",
     "output_type": "stream",
     "text": [
      "c:\\users\\stefan\\git-repos\\work\\venv\\qpn\\lib\\site-packages\\scipy\\stats\\stats.py:1713: FutureWarning: Using a non-tuple sequence for multidimensional indexing is deprecated; use `arr[tuple(seq)]` instead of `arr[seq]`. In the future this will be interpreted as an array index, `arr[np.array(seq)]`, which will result either in an error or a different result.\n",
      "  return np.add.reduce(sorted[indexer] * weights, axis=axis) / sumval\n"
     ]
    },
    {
     "data": {
      "text/plain": [
       "<matplotlib.axes._subplots.AxesSubplot at 0x29b9b6a1828>"
      ]
     },
     "execution_count": 27,
     "metadata": {},
     "output_type": "execute_result"
    },
    {
     "data": {
      "image/png": "[encoded data removed]",
      "text/plain": [
       "<Figure size 432x288 with 1 Axes>"
      ]
     },
     "metadata": {},
     "output_type": "display_data"
    }
   ],
   "source": [
    "# barplot with mean\n",
    "sns.barplot('hit_ratio', 'tokenInDelay', data=end2end_delays, estimator=mean)"
   ]
  },
  {
   "cell_type": "code",
   "execution_count": 28,
   "metadata": {},
   "outputs": [
    {
     "name": "stderr",
     "output_type": "stream",
     "text": [
      "c:\\users\\stefan\\git-repos\\work\\venv\\qpn\\lib\\site-packages\\scipy\\stats\\stats.py:1713: FutureWarning: Using a non-tuple sequence for multidimensional indexing is deprecated; use `arr[tuple(seq)]` instead of `arr[seq]`. In the future this will be interpreted as an array index, `arr[np.array(seq)]`, which will result either in an error or a different result.\n",
      "  return np.add.reduce(sorted[indexer] * weights, axis=axis) / sumval\n"
     ]
    },
    {
     "data": {
      "text/plain": [
       "<matplotlib.axes._subplots.AxesSubplot at 0x29b9b3b4898>"
      ]
     },
     "execution_count": 28,
     "metadata": {},
     "output_type": "execute_result"
    },
    {
     "data": {
      "image/png": "[encoded data removed]",
      "text/plain": [
       "<Figure size 432x288 with 1 Axes>"
      ]
     },
     "metadata": {},
     "output_type": "display_data"
    }
   ],
   "source": [
    "# barplot with max delay\n",
    "sns.barplot('hit_ratio', 'tokenInDelay', data=end2end_delays, estimator=max)"
   ]
  },
  {
   "cell_type": "code",
   "execution_count": null,
   "metadata": {
    "collapsed": true
   },
   "outputs": [],
   "source": []
  }
 ],
 "metadata": {
  "kernelspec": {
   "display_name": "venv-qpn",
   "language": "python",
   "name": "venv-qpn"
  },
  "language_info": {
   "codemirror_mode": {
    "name": "ipython",
    "version": 3
   },
   "file_extension": ".py",
   "mimetype": "text/x-python",
   "name": "python",
   "nbconvert_exporter": "python",
   "pygments_lexer": "ipython3",
   "version": "3.6.2"
  }
 },
 "nbformat": 4,
 "nbformat_minor": 2
}
